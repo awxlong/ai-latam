{
 "cells": [
  {
   "attachments": {},
   "cell_type": "markdown",
   "metadata": {},
   "source": [
    "### Capítulo 2.5: Resolviendo problemas varios en Jupyter usando Python \n",
    "\n",
    "Bienvenidos al Capítulo 2.5 en donde vamos a escribir código Python para resolver problemas varios. \n",
    "\n",
    "\n",
    "1. Define una función que dado un radio en decimal, este calcula el volumen de una esfera. La fórmula a usar es $V = 4/3 \\pi r^3$. Temas involucrados: manipular variables, importación de librerías, depuración.\n",
    "![prolema1](problema1.png)"
   ]
  },
  {
   "cell_type": "code",
   "execution_count": 13,
   "metadata": {},
   "outputs": [],
   "source": [
    "import math \n",
    "def volumen(radio):\n",
    "    ## Calcular el volumen\n",
    "    volumen = 4/3 * math.pi * (radio**3)\n",
    "    volumen_redondeado = round(volumen, 2)\n",
    "    return volumen_redondeado\n",
    "\n",
    "### Podemos usar assert para depurar\n",
    "\n",
    "assert volumen(5) == 523.60\n"
   ]
  },
  {
   "attachments": {},
   "cell_type": "markdown",
   "metadata": {},
   "source": [
    "2. Dado un entero m, imprime la siguiente estructura. Lo que está entre paréntesis no es necesario imprimir. \n",
    "\n",
    "11111...  (m veces)\n",
    "\n",
    "222...2(m-1 veces)\n",
    "\n",
    "33...3 (m-2 veces)\n",
    "\n",
    "...\n",
    "\n",
    "m(1 vez)\n",
    "\n",
    "Temas involucrados: manipular variables, tipos de variables, bucles\n",
    "![problema2](problema2.png)"
   ]
  },
  {
   "cell_type": "code",
   "execution_count": 27,
   "metadata": {},
   "outputs": [],
   "source": [
    "def estructura_piraimidal(m):\n",
    "    \"\"\"\n",
    "    Dado entero m, me imprime una estructura inversa\n",
    "    \"\"\"\n",
    "    contador = m\n",
    "    for i in range(1, m + 1):\n",
    "        print(str(i) * contador)\n",
    "        contador -= 1 # contador -= 1\n",
    "        "
   ]
  },
  {
   "cell_type": "code",
   "execution_count": 28,
   "metadata": {},
   "outputs": [
    {
     "name": "stdout",
     "output_type": "stream",
     "text": [
      "111\n",
      "22\n",
      "3\n"
     ]
    }
   ],
   "source": [
    "#str(1) * 3\n",
    "estructura_piraimidal(3) # m = 3\n"
   ]
  },
  {
   "attachments": {},
   "cell_type": "markdown",
   "metadata": {},
   "source": [
    "3. Dado un arreglo de enteros (o decimales), calcula el promedio de los valores dado en este. Trata de no usar funciones externas como sum() o len(). Temas involucrados: bucles, funciones predefinidas\n",
    "\n",
    "![problema3](problema3.png)"
   ]
  },
  {
   "cell_type": "code",
   "execution_count": 45,
   "metadata": {},
   "outputs": [],
   "source": [
    "def calc_promedio(mi_arreglo):\n",
    "    mi_acumulador = 0\n",
    "    contador_elementos = 0\n",
    "    \n",
    "    # iterar con bucle mejorado en el arreglo\n",
    "    for entero in mi_arreglo:\n",
    "        mi_acumulador += entero # lo mismo que mi_acumulador = mi_acumulador + entero\n",
    "        contador_elementos += 1\n",
    "    \n",
    "    promedio = mi_acumulador / contador_elementos\n",
    "        \n",
    "    return promedio\n",
    "\n",
    "def calc_promedio_resumida(mi_arreglo):\n",
    "    \n",
    "    promedio = sum(mi_arreglo)/len(mi_arreglo) # sum() me devuelve la suma de los elementos\n",
    "                                               # len() el tamaño del arreglo\n",
    "        \n",
    "    return promedio"
   ]
  },
  {
   "cell_type": "code",
   "execution_count": 46,
   "metadata": {},
   "outputs": [],
   "source": [
    "assert calc_promedio_resumida([1,2,3]) == 2.0 "
   ]
  },
  {
   "cell_type": "markdown",
   "metadata": {},
   "source": [
    "4. Dado una lista de caracteres (e.g. [‘a’, ‘c’, ‘D’, ‘P’, ‘j’]), solo imprime los caracteres que están en mayúscula. Temas involucrados: tipos de variables, bucles, estructuras de control, funciones predefinidas. \n"
   ]
  },
  {
   "cell_type": "code",
   "execution_count": 51,
   "metadata": {},
   "outputs": [],
   "source": [
    "def chequeo_mayuscula(mi_arreglo_caracteres):\n",
    "    # chequeo con bucle + estructura de control\n",
    "    for caracter in mi_arreglo_caracteres:\n",
    "        if caracter.isupper():\n",
    "            print(caracter)"
   ]
  },
  {
   "cell_type": "code",
   "execution_count": 52,
   "metadata": {},
   "outputs": [
    {
     "name": "stdout",
     "output_type": "stream",
     "text": [
      "A\n",
      "B\n"
     ]
    }
   ],
   "source": [
    "chequeo_mayuscula([\"a\", 'A', 'b', 'B'])"
   ]
  },
  {
   "cell_type": "markdown",
   "metadata": {},
   "source": [
    "5. Dado un entero m, chequea si este contiene dos dígitos, devolviendo “tiene 2 dígitos”. Si tiene más dígitos imprime “tiene más de dos dígitos”. Si tiene solo un dígito, imprime “solo tiene un dígito”. Temas involucrados: tipos de variables, estructuras de control\n",
    "\n",
    "![problema5](problema4.png)\n"
   ]
  },
  {
   "cell_type": "code",
   "execution_count": 54,
   "metadata": {},
   "outputs": [],
   "source": [
    "def chequeo_digitos(m):\n",
    "    \n",
    "    cadena_m = str(m)\n",
    "    tam_cadena_m = len(cadena_m)\n",
    "    \n",
    "    if tam_cadena_m == 2:\n",
    "        print(\"tiene 2 dígitos\")\n",
    "    elif tam_cadena_m == 1:\n",
    "        print(\"solo tiene un dígito\")\n",
    "    # estas son las condiciones restantes\n",
    "    else:\n",
    "        print(\"tiene más de dos digitos\")\n",
    "        "
   ]
  },
  {
   "cell_type": "code",
   "execution_count": 57,
   "metadata": {},
   "outputs": [
    {
     "name": "stdout",
     "output_type": "stream",
     "text": [
      "tiene más de dos digitos\n"
     ]
    }
   ],
   "source": [
    "#len(str(985)) > 2\n",
    "chequeo_digitos(101)"
   ]
  },
  {
   "attachments": {},
   "cell_type": "markdown",
   "metadata": {},
   "source": [
    "6. Chequea si una lista es palíndroma, lo cual significa que la lista es igual tanto si lo vez de izquierda a derecha o viceversa. Temas involucrados: variables, estructuras de control, bucles, depuración\n",
    "\n",
    "![problema5](problema5.png)\n"
   ]
  },
  {
   "cell_type": "code",
   "execution_count": 58,
   "metadata": {},
   "outputs": [],
   "source": []
  },
  {
   "cell_type": "code",
   "execution_count": 63,
   "metadata": {},
   "outputs": [
    {
     "data": {
      "text/plain": [
       "True"
      ]
     },
     "execution_count": 63,
     "metadata": {},
     "output_type": "execute_result"
    }
   ],
   "source": [
    "def revertir(mi_arreglo):\n",
    "    \n",
    "    arreglo_inv = []\n",
    "    \n",
    "    indice_inverso = len(mi_arreglo) - 1\n",
    "    \n",
    "    for i in range(len(mi_arreglo)):\n",
    "        arreglo_inv.append(mi_arreglo[indice_inverso])\n",
    "        indice_inverso -= 1\n",
    "        \n",
    "    return arreglo_inv\n",
    "\n",
    "def chequeo_igualdad(mi_arreglo, mi_arreglo_invertido):\n",
    "        \n",
    "    for i in range(len(mi_arreglo)):\n",
    "        \n",
    "        if mi_arreglo[i] != mi_arreglo_invertido[i]:\n",
    "            \n",
    "            return False\n",
    "    \n",
    "    return True\n",
    "\n",
    "chequeo_igualdad([1,2,3], [1, 2, 3])\n"
   ]
  },
  {
   "cell_type": "code",
   "execution_count": 64,
   "metadata": {},
   "outputs": [],
   "source": [
    "def chequeo_palindromo(mi_arreglo):\n",
    "    \n",
    "    ## 1. Revertir el arreglo\n",
    "    mi_arreglo_invertido = revertir(mi_arreglo)\n",
    "    \n",
    "    ## 2. Chequear si ambos son iguales\n",
    "    chequeo_booleano = chequeo_igualdad(mi_arreglo, mi_arreglo_invertido)\n",
    "    \n",
    "    return chequeo_booleano"
   ]
  },
  {
   "cell_type": "code",
   "execution_count": 67,
   "metadata": {},
   "outputs": [],
   "source": [
    "assert chequeo_palindromo([1, 3, 5, 2, 1]) == False"
   ]
  },
  {
   "cell_type": "markdown",
   "metadata": {},
   "source": [
    "7. Dado un entero n, imprime un sucesión Fibonacci hasta el término n.  Temas involucrados: bucles, depuración\n"
   ]
  },
  {
   "cell_type": "code",
   "execution_count": 78,
   "metadata": {},
   "outputs": [],
   "source": [
    "def fibonacci(n):\n",
    "    primer_term = 1 \n",
    "    segundo_term = 1\n",
    "    \n",
    "    print(primer_term)\n",
    "    print(segundo_term)\n",
    "    \n",
    "    for i in range(1, n + 1):\n",
    "        suma_ambas = primer_term + segundo_term\n",
    "        primer_term = segundo_term\n",
    "        segundo_term = suma_ambas\n",
    "        print(suma_ambas)\n",
    "        \n",
    "def fibonacci_concisa(n):\n",
    "    primer_term = 1 \n",
    "    segundo_term = 1\n",
    "    \n",
    "    print(primer_term)\n",
    "    print(segundo_term)\n",
    "    \n",
    "    for i in range(1, n + 1):\n",
    "        \n",
    "        primer_term, segundo_term = segundo_term, primer_term + segundo_term\n",
    "        \n",
    "        #suma_ambas = primer_term + segundo_term\n",
    "        #primer_term = segundo_term\n",
    "        #segundo_term = suma_ambas\n",
    "        print(segundo_term)"
   ]
  },
  {
   "cell_type": "code",
   "execution_count": 80,
   "metadata": {},
   "outputs": [
    {
     "name": "stdout",
     "output_type": "stream",
     "text": [
      "1\n",
      "1\n"
     ]
    }
   ],
   "source": [
    "fibonacci_concisa(-1)"
   ]
  },
  {
   "cell_type": "code",
   "execution_count": null,
   "metadata": {},
   "outputs": [],
   "source": []
  },
  {
   "cell_type": "code",
   "execution_count": null,
   "metadata": {},
   "outputs": [],
   "source": []
  },
  {
   "cell_type": "code",
   "execution_count": null,
   "metadata": {},
   "outputs": [],
   "source": []
  },
  {
   "cell_type": "code",
   "execution_count": null,
   "metadata": {},
   "outputs": [],
   "source": []
  }
 ],
 "metadata": {
  "kernelspec": {
   "display_name": "Python 3",
   "language": "python",
   "name": "python3"
  },
  "language_info": {
   "codemirror_mode": {
    "name": "ipython",
    "version": 3
   },
   "file_extension": ".py",
   "mimetype": "text/x-python",
   "name": "python",
   "nbconvert_exporter": "python",
   "pygments_lexer": "ipython3",
   "version": "3.8.5"
  }
 },
 "nbformat": 4,
 "nbformat_minor": 4
}
